{
 "cells": [
  {
   "cell_type": "code",
   "execution_count": null,
   "id": "d1032ca3",
   "metadata": {
    "vscode": {
     "languageId": "plaintext"
    }
   },
   "outputs": [],
   "source": [
    "# Count the Number of Fair Pairs\n",
    "class Solution:\n",
    "    def countFairPairs(self, nums: List[int], lower: int, upper: int) -> int:\n",
    "        nums.sort()\n",
    "        return self.countLess(nums, upper) - self.countLess(nums, lower - 1)\n",
    "\n",
    "    def countLess(self, nums: List[int], total: int) -> int:\n",
    "        res = 0\n",
    "        j = len(nums) - 1\n",
    "        for i in range(len(nums)):\n",
    "            while i < j and nums[i] + nums[j] > total:\n",
    "                j -= 1\n",
    "            if i < j:\n",
    "                res += j - i\n",
    "        return res\n",
    "\n",
    "        "
   ]
  }
 ],
 "metadata": {
  "kernelspec": {
   "display_name": "Python 3 (ipykernel)",
   "language": "python",
   "name": "python3"
  },
  "language_info": {
   "codemirror_mode": {
    "name": "ipython",
    "version": 3
   },
   "file_extension": ".py",
   "mimetype": "text/x-python",
   "name": "python",
   "nbconvert_exporter": "python",
   "pygments_lexer": "ipython3",
   "version": "3.12.4"
  }
 },
 "nbformat": 4,
 "nbformat_minor": 5
}
